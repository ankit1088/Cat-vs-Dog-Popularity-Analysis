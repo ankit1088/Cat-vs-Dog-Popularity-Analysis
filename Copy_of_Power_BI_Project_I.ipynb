{
  "nbformat": 4,
  "nbformat_minor": 0,
  "metadata": {
    "colab": {
      "provenance": [],
      "include_colab_link": true
    },
    "kernelspec": {
      "name": "python3",
      "display_name": "Python 3"
    },
    "language_info": {
      "name": "python"
    }
  },
  "cells": [
    {
      "cell_type": "markdown",
      "metadata": {
        "id": "view-in-github",
        "colab_type": "text"
      },
      "source": [
        "<a href=\"https://colab.research.google.com/github/ankit1088/Cat-vs-Dog-Popularity-Analysis/blob/main/Copy_of_Power_BI_Project_I.ipynb\" target=\"_parent\"><img src=\"https://colab.research.google.com/assets/colab-badge.svg\" alt=\"Open In Colab\"/></a>"
      ]
    },
    {
      "cell_type": "markdown",
      "source": [
        "# ***Students have to choose and submit the link of their Power BI project from the list given below.***\n",
        "---"
      ],
      "metadata": {
        "id": "Q76rNdYZn0zg"
      }
    },
    {
      "cell_type": "markdown",
      "source": [
        "## **Power BI Project-I**\n",
        "\n",
        "1. Cat vs Dog Popularity in the U.S.\n",
        "\n",
        "2. U.S. Home Sales, 1963-2016\n",
        "\n",
        "5. FIFA 18 Player Ratings\n",
        "\n",
        "4. Magnitude 6+ Earthquakes"
      ],
      "metadata": {
        "id": "Tp7fZYMgr7Ze"
      }
    },
    {
      "cell_type": "markdown",
      "source": [
        "**Please find datasets drive links of above mentioned Power BI Project here:**\n",
        "---"
      ],
      "metadata": {
        "id": "zucopMzRxJs2"
      }
    },
    {
      "cell_type": "markdown",
      "source": [
        "1. **Cat vs Dog Popularity in the U.S.**\n",
        "\n",
        "  * Drive Links--->https://drive.google.com/drive/folders/1S3xf0zJkBSxRczVKSAijKh6PtmExJOxi?usp=sharing\n",
        "\n",
        "2. **U.S. Home Sales, 1963-2016**\n",
        "\n",
        "  * Drive Link--->https://drive.google.com/drive/folders/1BPAR8qDIF2WMz5UKJSGldkWJBpYBkv1T?usp=sharing\n",
        "\n",
        "\n",
        "3. **FIFA 18 Player Ratings**\n",
        "\n",
        "  * Drive Link--->https://drive.google.com/drive/folders/1AOLOFwY8_ulpVJIBmpS86Cd_qlmCplG_?usp=sharing\n",
        "\n",
        "4. **Magnitude 6+ Earthquakes**\n",
        "  * Drive Link --->https://drive.google.com/drive/folders/1NCsyFimsNUe_f3_4V9vNy3dkZXPRHGrl?usp=sharing"
      ],
      "metadata": {
        "id": "UYWH3JiLxxOP"
      }
    },
    {
      "cell_type": "markdown",
      "source": [
        "# ***Materials and resources***\n",
        "---\n",
        "\n",
        "\n",
        "\n",
        "\n",
        "\n",
        "\n"
      ],
      "metadata": {
        "id": "YPErsEN7oHAr"
      }
    },
    {
      "cell_type": "markdown",
      "source": [
        "**Youtube Links:**\n",
        "\n",
        "https://www.youtube.com/watch?v=et8tAUTwcvY\n",
        "\n",
        "https://www.youtube.com/watch?v=-8676S8m91w\n"
      ],
      "metadata": {
        "id": "VX7WDs2kqNYk"
      }
    },
    {
      "cell_type": "markdown",
      "source": [
        "**Materials:**\n",
        "\n",
        "https://www.techtarget.com/searchcontentmanagement/definition/Microsoft-Power-BI\n",
        "\n",
        "**Resources - > Download Power BI Desktop from here.**\n",
        "\n",
        "https://www.microsoft.com/en-us/download/details.aspx?id=58494"
      ],
      "metadata": {
        "id": "iweGxsk6qd34"
      }
    },
    {
      "cell_type": "markdown",
      "source": [
        "## ***Note: Avoid copying from eachother, copying may lead to direct rejection. This is an individual submission.***\n"
      ],
      "metadata": {
        "id": "EOz95nNa2XKn"
      }
    },
    {
      "cell_type": "markdown",
      "source": [
        "Paste your Power BI link here:\n",
        "https://drive.google.com/file/d/1rO3u1pu23z5oMMNUyq-HKU0dmGJ_yyV7/view?usp=sharing"
      ],
      "metadata": {
        "id": "lHXO_jcDoWxq"
      }
    }
  ]
}